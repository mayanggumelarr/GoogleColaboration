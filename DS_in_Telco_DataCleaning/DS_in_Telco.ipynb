{
 "cells": [
  {
   "metadata": {},
   "cell_type": "markdown",
   "source": "# Import Library",
   "id": "c55e48375eaceebd"
  },
  {
   "cell_type": "code",
   "id": "initial_id",
   "metadata": {
    "collapsed": true,
    "ExecuteTime": {
     "end_time": "2025-07-18T12:47:07.734765Z",
     "start_time": "2025-07-18T12:47:07.730094Z"
    }
   },
   "source": [
    "import pandas as pd\n",
    "pd.options.display.max_columns = 50"
   ],
   "outputs": [],
   "execution_count": 1
  },
  {
   "metadata": {},
   "cell_type": "markdown",
   "source": "# Load Dataset",
   "id": "603929e9c1d27112"
  },
  {
   "metadata": {
    "ExecuteTime": {
     "end_time": "2025-07-18T12:47:10.167683Z",
     "start_time": "2025-07-18T12:47:07.756832Z"
    }
   },
   "cell_type": "code",
   "source": "df = pd.read_csv('https://storage.googleapis.com/dqlab-dataset/dqlab_telco.csv')",
   "id": "1b065c212eeb168f",
   "outputs": [],
   "execution_count": 2
  },
  {
   "metadata": {
    "ExecuteTime": {
     "end_time": "2025-07-18T13:47:42.358268Z",
     "start_time": "2025-07-18T13:47:42.303049Z"
    }
   },
   "cell_type": "code",
   "source": [
    "# Tampilkan dimensi data\n",
    "print(df.shape)\n",
    "# Ada 7133 baris dan 22 kolom'''"
   ],
   "id": "e64337fad17bf0bf",
   "outputs": [
    {
     "name": "stdout",
     "output_type": "stream",
     "text": [
      "(7113, 22)\n"
     ]
    }
   ],
   "execution_count": 40
  },
  {
   "metadata": {
    "ExecuteTime": {
     "end_time": "2025-07-18T13:47:47.103202Z",
     "start_time": "2025-07-18T13:47:47.090371Z"
    }
   },
   "cell_type": "code",
   "source": [
    "# Tampilkan 5 data teratas\n",
    "print(df.head(5))"
   ],
   "id": "39278143d847eb1a",
   "outputs": [
    {
     "name": "stdout",
     "output_type": "stream",
     "text": [
      "   UpdatedAt   customerID  gender  SeniorCitizen Partner Dependents  tenure  \\\n",
      "0     202006  45759018157  Female              0     Yes         No     1.0   \n",
      "1     202006  45557574145    Male              0      No         No    34.0   \n",
      "2     202006  45366876421    Male              0      No         No     2.0   \n",
      "3     202006  45779536532    Male              0      No         No    45.0   \n",
      "4     202006  45923787906  Female              0      No         No     2.0   \n",
      "\n",
      "  PhoneService     MultipleLines InternetService OnlineSecurity OnlineBackup  \\\n",
      "0           No  No phone service             DSL             No          Yes   \n",
      "1          Yes                No             DSL            Yes           No   \n",
      "2          Yes                No             DSL            Yes          Yes   \n",
      "3           No  No phone service             DSL            Yes           No   \n",
      "4          Yes                No     Fiber optic             No           No   \n",
      "\n",
      "  DeviceProtection TechSupport StreamingTV StreamingMovies        Contract  \\\n",
      "0               No          No          No              No  Month-to-month   \n",
      "1              Yes          No          No              No        One year   \n",
      "2               No          No          No              No  Month-to-month   \n",
      "3              Yes         Yes          No              No        One year   \n",
      "4               No          No          No              No  Month-to-month   \n",
      "\n",
      "  PaperlessBilling              PaymentMethod  MonthlyCharges  TotalCharges  \\\n",
      "0              Yes           Electronic check           29.85         29.85   \n",
      "1               No               Mailed check           56.95       1889.50   \n",
      "2              Yes               Mailed check           53.85        108.15   \n",
      "3               No  Bank transfer (automatic)           42.30       1840.75   \n",
      "4              Yes           Electronic check           70.70        151.65   \n",
      "\n",
      "  Churn  \n",
      "0    No  \n",
      "1    No  \n",
      "2   Yes  \n",
      "3    No  \n",
      "4   Yes  \n"
     ]
    }
   ],
   "execution_count": 41
  },
  {
   "metadata": {
    "ExecuteTime": {
     "end_time": "2025-07-18T13:48:21.565789Z",
     "start_time": "2025-07-18T13:48:21.553275Z"
    }
   },
   "cell_type": "code",
   "source": [
    "# Tampilkan jumlah ID unik pelanggan\n",
    "print(df.customerID.nunique())\n",
    "# 1. nunique() -> digunakan untuk menghitung jumlah values yang unik\n",
    "# 2. unique() -> digunakan untuk mengetahui value apa saja yang bersifat unik\n",
    "# 3. Tnpa list -> akses feature tanpa list untuk menghitung jumlah feature tsb yang bersifat unik\n"
   ],
   "id": "8f3782d086caeca4",
   "outputs": [
    {
     "name": "stdout",
     "output_type": "stream",
     "text": [
      "6993\n"
     ]
    }
   ],
   "execution_count": 45
  },
  {
   "metadata": {},
   "cell_type": "markdown",
   "source": [
    "# Filter ID Number Format Benar\n",
    "\n",
    "Syarat ID Number valid:\n",
    "1. Panjang karakter 11-12\n",
    "2. Hanya angka\n",
    "3. Diawali dg 45 di 2 digit pertama"
   ],
   "id": "4abe8d890cedec60"
  },
  {
   "metadata": {
    "ExecuteTime": {
     "end_time": "2025-07-18T13:48:07.273773Z",
     "start_time": "2025-07-18T13:48:07.235887Z"
    }
   },
   "cell_type": "code",
   "source": [
    "# Gunakan REGEX untuk mengetahui nilai valid\n",
    "df['valid_id'] = df['customerID'].astype(str).str.match(r'(45\\d{9,10})')\n",
    "\n",
    "# Buat kolom bantuan 'valid_id' untuk menandai ID mana saja yang bernilai sesuai syarat. Maknanya id akan di cek 45 adalah nilai awal dan diikuti 9/10 angka dibelakangnya. Menggunakan astype(str) -> memastika customer_ID diperlakukan sebagai string."
   ],
   "id": "bdb0e5a4fe61ca97",
   "outputs": [],
   "execution_count": 43
  },
  {
   "metadata": {
    "ExecuteTime": {
     "end_time": "2025-07-18T13:48:16.849192Z",
     "start_time": "2025-07-18T13:48:16.819213Z"
    }
   },
   "cell_type": "code",
   "source": [
    "# Drop baris2 yang ber id tidak sesuai berdasarkan bantuan valid_id columns\n",
    "df = (df[df['valid_id'] == True]).drop('valid_id', axis=1)"
   ],
   "id": "1f7bc5c69e563d03",
   "outputs": [],
   "execution_count": 44
  },
  {
   "metadata": {
    "ExecuteTime": {
     "end_time": "2025-07-18T13:48:23.174901Z",
     "start_time": "2025-07-18T13:48:23.167233Z"
    }
   },
   "cell_type": "code",
   "source": [
    "#Lihat hasilnya:\n",
    "\n",
    "print('Hasil jumlah ID Customer yang valid: ', df['customerID'].count())"
   ],
   "id": "a2cc40279471a63",
   "outputs": [
    {
     "name": "stdout",
     "output_type": "stream",
     "text": [
      "Hasil jumlah ID Customer yang valid:  7006\n"
     ]
    }
   ],
   "execution_count": 46
  },
  {
   "metadata": {},
   "cell_type": "markdown",
   "source": "# Filter Duplikat Data",
   "id": "87e5efc50fe9e181"
  },
  {
   "metadata": {
    "ExecuteTime": {
     "end_time": "2025-07-18T13:48:31.110519Z",
     "start_time": "2025-07-18T13:48:31.083039Z"
    }
   },
   "cell_type": "code",
   "source": [
    "# Drop Duplicat Rows\n",
    "df = df.drop_duplicates()"
   ],
   "id": "4ecc109ec4c3539c",
   "outputs": [],
   "execution_count": 47
  },
  {
   "metadata": {
    "ExecuteTime": {
     "end_time": "2025-07-18T12:47:11.538334Z",
     "start_time": "2025-07-18T12:47:11.533187Z"
    }
   },
   "cell_type": "code",
   "source": "print(df.shape)",
   "id": "74fc7775859377c2",
   "outputs": [
    {
     "name": "stdout",
     "output_type": "stream",
     "text": [
      "(6999, 22)\n"
     ]
    }
   ],
   "execution_count": 10
  },
  {
   "metadata": {
    "ExecuteTime": {
     "end_time": "2025-07-18T13:48:51.684807Z",
     "start_time": "2025-07-18T13:48:51.663401Z"
    }
   },
   "cell_type": "code",
   "source": [
    "# Drop Duplikat data berdasarkan waktu inserting yang sama\n",
    "\n",
    "df = df.sort_values('UpdatedAt',ascending=False).drop_duplicates('customerID')\n",
    "# Hanya satu baris untuk setiap nilai 'customerID' yang akan disimpan di DataFrame, sisanya (duplikatnya) akan dihapus."
   ],
   "id": "cc1b410569794158",
   "outputs": [],
   "execution_count": 48
  },
  {
   "metadata": {
    "ExecuteTime": {
     "end_time": "2025-07-18T13:48:57.487979Z",
     "start_time": "2025-07-18T13:48:57.480391Z"
    }
   },
   "cell_type": "code",
   "source": [
    "# Lihat hasil customer_ID yang telah dibersihkan datanya\n",
    "print('Jumlah ID Customer after clening: ',df['customerID'].count())"
   ],
   "id": "6f98c7217bb83e35",
   "outputs": [
    {
     "name": "stdout",
     "output_type": "stream",
     "text": [
      "Jumlah ID Customer after clening:  6993\n"
     ]
    }
   ],
   "execution_count": 49
  },
  {
   "metadata": {},
   "cell_type": "markdown",
   "source": [
    "# Mengatasi Rows Missing Value\n",
    "\n",
    "Mendeteksi rows yang tidak terdeteksi apakah churn atau tidak. Menggunakan isnull() untuk deteksi dan dropna() untuk drop missing value"
   ],
   "id": "9e501d50c3c1273f"
  },
  {
   "metadata": {
    "ExecuteTime": {
     "end_time": "2025-07-18T13:49:05.207289Z",
     "start_time": "2025-07-18T13:49:05.194615Z"
    }
   },
   "cell_type": "code",
   "source": [
    "# Perlihatkan total missing value pada kolom churn\n",
    "print('Total missing values kolom Churn', df['Churn'].isnull().sum())\n",
    "\n",
    "# Ada 43 baris missing values"
   ],
   "id": "f6e1cc6a4b206c92",
   "outputs": [
    {
     "name": "stdout",
     "output_type": "stream",
     "text": [
      "Total missing values kolom Churn 43\n"
     ]
    }
   ],
   "execution_count": 50
  },
  {
   "metadata": {
    "ExecuteTime": {
     "end_time": "2025-07-18T13:49:11.044362Z",
     "start_time": "2025-07-18T13:49:11.013053Z"
    }
   },
   "cell_type": "code",
   "source": [
    "# Drop semua baris yang kosong pada kolom Churn\n",
    "df.dropna(subset=['Churn'], inplace=True)\n",
    "\n",
    "print('Dimensi after drop missing values: ', df.shape)"
   ],
   "id": "965f58974e71c9e4",
   "outputs": [
    {
     "name": "stdout",
     "output_type": "stream",
     "text": [
      "Dimensi after drop missing values:  (6950, 22)\n"
     ]
    }
   ],
   "execution_count": 51
  },
  {
   "metadata": {},
   "cell_type": "markdown",
   "source": [
    "## Mengatasi Missing Values dengan pengisian nilai tertentu\n",
    "\n",
    "1. Modeller meminta kolom Tenure yang kosong diisi dengan angka 11\n",
    "2. Untuk variabel numerik lain yang memiliki miss value diisi dengan median dari masing-masing variabel"
   ],
   "id": "ea934fc24e2f57b4"
  },
  {
   "metadata": {
    "ExecuteTime": {
     "end_time": "2025-07-18T13:49:18.499806Z",
     "start_time": "2025-07-18T13:49:18.488671Z"
    }
   },
   "cell_type": "code",
   "source": [
    "# Cek status missing values di semua kolom\n",
    "print('Status Missing Values: ', df.isnull().values.any())\n",
    "\n",
    "# Hasil = True -> berarti ada kolom2 yang memiliki Missing value"
   ],
   "id": "5883864a8347c1e",
   "outputs": [
    {
     "name": "stdout",
     "output_type": "stream",
     "text": [
      "Status Missing Values:  True\n"
     ]
    }
   ],
   "execution_count": 52
  },
  {
   "metadata": {
    "ExecuteTime": {
     "end_time": "2025-07-18T13:49:22.502062Z",
     "start_time": "2025-07-18T13:49:22.490121Z"
    }
   },
   "cell_type": "code",
   "source": [
    "# Tampilkan jumlah missing values masing2 kolom:\n",
    "print('\\nJumlah Missing Values each columns: ')\n",
    "print(df.isnull().sum().sort_values(ascending=False)) # Dari terbesar ke terkecil"
   ],
   "id": "3883ce268a0fce21",
   "outputs": [
    {
     "name": "stdout",
     "output_type": "stream",
     "text": [
      "\n",
      "Jumlah Missing Values each columns: \n",
      "tenure              99\n",
      "MonthlyCharges      26\n",
      "TotalCharges        15\n",
      "UpdatedAt            0\n",
      "DeviceProtection     0\n",
      "PaymentMethod        0\n",
      "PaperlessBilling     0\n",
      "Contract             0\n",
      "StreamingMovies      0\n",
      "StreamingTV          0\n",
      "TechSupport          0\n",
      "OnlineBackup         0\n",
      "customerID           0\n",
      "OnlineSecurity       0\n",
      "InternetService      0\n",
      "MultipleLines        0\n",
      "PhoneService         0\n",
      "Dependents           0\n",
      "Partner              0\n",
      "SeniorCitizen        0\n",
      "gender               0\n",
      "Churn                0\n",
      "dtype: int64\n"
     ]
    }
   ],
   "execution_count": 53
  },
  {
   "metadata": {
    "ExecuteTime": {
     "end_time": "2025-07-18T12:47:12.157479Z",
     "start_time": "2025-07-18T12:47:12.150935Z"
    }
   },
   "cell_type": "code",
   "source": "df22 = df2.copy() # Takut keubah semua cuyyyyy",
   "id": "9673b258b8bdbf75",
   "outputs": [],
   "execution_count": 17
  },
  {
   "metadata": {
    "ExecuteTime": {
     "end_time": "2025-07-18T13:49:49.568999Z",
     "start_time": "2025-07-18T13:49:49.561875Z"
    }
   },
   "cell_type": "code",
   "source": [
    "# Handling missing value kolom Tenure\n",
    "df['tenure'] = df['tenure'].fillna(11)"
   ],
   "id": "4857f262e3b18dae",
   "outputs": [],
   "execution_count": 54
  },
  {
   "metadata": {
    "ExecuteTime": {
     "end_time": "2025-07-18T13:50:01.875316Z",
     "start_time": "2025-07-18T13:50:01.862177Z"
    }
   },
   "cell_type": "code",
   "source": [
    "# Handling num vars\n",
    "for col_name in list(['MonthlyCharges', 'TotalCharges']):\n",
    "    median = df[col_name].median()\n",
    "    df[col_name] = df[col_name].fillna(median)"
   ],
   "id": "4e94f7c9dd8d469d",
   "outputs": [],
   "execution_count": 55
  },
  {
   "metadata": {
    "ExecuteTime": {
     "end_time": "2025-07-18T13:50:08.385131Z",
     "start_time": "2025-07-18T13:50:08.375505Z"
    }
   },
   "cell_type": "code",
   "source": [
    "# Tampilkan jumlah missing values after handling\n",
    "print('\\nJumlah Missing Values After Handling: ')\n",
    "print(df.isnull().sum().sort_values(ascending=False))"
   ],
   "id": "a385511174065502",
   "outputs": [
    {
     "name": "stdout",
     "output_type": "stream",
     "text": [
      "\n",
      "Jumlah Missing Values After Handling: \n",
      "UpdatedAt           0\n",
      "customerID          0\n",
      "TotalCharges        0\n",
      "MonthlyCharges      0\n",
      "PaymentMethod       0\n",
      "PaperlessBilling    0\n",
      "Contract            0\n",
      "StreamingMovies     0\n",
      "StreamingTV         0\n",
      "TechSupport         0\n",
      "DeviceProtection    0\n",
      "OnlineBackup        0\n",
      "OnlineSecurity      0\n",
      "InternetService     0\n",
      "MultipleLines       0\n",
      "PhoneService        0\n",
      "tenure              0\n",
      "Dependents          0\n",
      "Partner             0\n",
      "SeniorCitizen       0\n",
      "gender              0\n",
      "Churn               0\n",
      "dtype: int64\n"
     ]
    }
   ],
   "execution_count": 56
  },
  {
   "metadata": {},
   "cell_type": "markdown",
   "source": [
    "# Mengatasi Outlier\n",
    "\n",
    "Mendeteksi outliers dengan boxplot"
   ],
   "id": "597f2e0345779743"
  },
  {
   "metadata": {
    "ExecuteTime": {
     "end_time": "2025-07-18T13:50:18.807927Z",
     "start_time": "2025-07-18T13:50:18.790220Z"
    }
   },
   "cell_type": "code",
   "source": [
    "# Deskripsikan sebaran data sebelum divisualisasikan.\n",
    "print('\\nSebaran data Telco: ')\n",
    "print(df[['tenure', 'MonthlyCharges', 'TotalCharges']].describe())"
   ],
   "id": "7d44b0ca7e92ae65",
   "outputs": [
    {
     "name": "stdout",
     "output_type": "stream",
     "text": [
      "\n",
      "Sebaran data Telco: \n",
      "            tenure  MonthlyCharges  TotalCharges\n",
      "count  6950.000000     6950.000000   6950.000000\n",
      "mean     32.477266       65.783741   2305.083460\n",
      "std      25.188910       50.457871   2578.651143\n",
      "min       0.000000        0.000000     19.000000\n",
      "25%       9.000000       36.462500    406.975000\n",
      "50%      29.000000       70.450000   1400.850000\n",
      "75%      55.000000       89.850000   3799.837500\n",
      "max     500.000000     2311.000000  80000.000000\n"
     ]
    }
   ],
   "execution_count": 57
  },
  {
   "metadata": {
    "ExecuteTime": {
     "end_time": "2025-07-18T12:47:12.430687Z",
     "start_time": "2025-07-18T12:47:12.425222Z"
    }
   },
   "cell_type": "code",
   "source": [
    "# Import library visualisasi\n",
    "import matplotlib.pyplot as plt\n",
    "import seaborn as sns"
   ],
   "id": "bce02fa69bf5a042",
   "outputs": [],
   "execution_count": 22
  },
  {
   "metadata": {
    "ExecuteTime": {
     "end_time": "2025-07-18T13:50:31.169848Z",
     "start_time": "2025-07-18T13:50:30.831404Z"
    }
   },
   "cell_type": "code",
   "source": [
    "# Buat Boxplot untuk masing2 dari ketiga Variabel:\n",
    "# Tenure\n",
    "plt.figure()\n",
    "sns.boxplot(x=df['tenure'], color='red', fliersize=8, flierprops={'markerfacecolor': 'r'})\n",
    "plt.title('Boxplot Tenure')\n",
    "plt.xlabel('Tenure')\n",
    "plt.show()\n",
    "\n",
    "# MonthlyCharges\n",
    "plt.figure()\n",
    "sns.boxplot(x=df['MonthlyCharges'], color='red', fliersize=8, flierprops={'markerfacecolor': 'r'})\n",
    "plt.title('Boxplot MonthlyCharges')\n",
    "plt.xlabel('MonthlyCharges')\n",
    "plt.show()\n",
    "\n",
    "# TotalCharges\n",
    "plt.figure()\n",
    "sns.boxplot(x=df['TotalCharges'], color='red', fliersize=8, flierprops={'markerfacecolor': 'r'})\n",
    "plt.title('Boxplot TotalCharges')\n",
    "plt.xlabel('TotalCharges')\n",
    "plt.show()"
   ],
   "id": "492a837af838245",
   "outputs": [
    {
     "data": {
      "text/plain": [
       "<Figure size 640x480 with 1 Axes>"
      ],
      "image/png": "[encoded data removed]"
     },
     "metadata": {},
     "output_type": "display_data"
    },
    {
     "data": {
      "text/plain": [
       "<Figure size 640x480 with 1 Axes>"
      ],
      "image/png": "[encoded data removed]"
     },
     "metadata": {},
     "output_type": "display_data"
    },
    {
     "data": {
      "text/plain": [
       "<Figure size 640x480 with 1 Axes>"
      ],
      "image/png": "[encoded data removed]"
     },
     "metadata": {},
     "output_type": "display_data"
    }
   ],
   "execution_count": 58
  },
  {
   "metadata": {},
   "cell_type": "markdown",
   "source": "## Mengatasi Outlier dengan Quantile dan mask",
   "id": "dd18280e40709f9c"
  },
  {
   "metadata": {
    "ExecuteTime": {
     "end_time": "2025-07-18T13:51:01.749195Z",
     "start_time": "2025-07-18T13:51:01.699271Z"
    }
   },
   "cell_type": "code",
   "source": [
    "# Menangani outlier\n",
    "# Proses outlier dengan batch calculation (lebih efisien & rapih)\n",
    "Q1 = (df[['tenure','MonthlyCharges','TotalCharges']]).quantile(0.25)\n",
    "Q3 = (df[['tenure','MonthlyCharges','TotalCharges']]).quantile(0.75)\n",
    "IQR = Q3 - Q1\n",
    "maximum = Q3 + (1.5*IQR)\n",
    "print('\\nNilai Maximum dari masing-masing Variabel adalah: ')\n",
    "print(maximum)\n",
    "\n",
    "minimum = Q1 - (1.5*IQR)\n",
    "print('\\nNilai Minimum dari masing-masing Variabel adalah: ')\n",
    "print(minimum)\n",
    "\n",
    "more_than = (df[['tenure', 'MonthlyCharges', 'TotalCharges']] > maximum)\n",
    "lower_than = (df[['tenure', 'MonthlyCharges', 'TotalCharges']] < minimum)\n",
    "df = df.mask(more_than, maximum, axis=1)\n",
    "df = df.mask(lower_than, minimum, axis=1)\n",
    "\n",
    "print('\\nPersebaran data setelah ditangani Outlier: ')\n",
    "print(df[['tenure', 'MonthlyCharges', 'TotalCharges']].describe())"
   ],
   "id": "d6322b562f1ee588",
   "outputs": [
    {
     "name": "stdout",
     "output_type": "stream",
     "text": [
      "\n",
      "Nilai Maximum dari masing-masing Variabel adalah: \n",
      "tenure             124.00000\n",
      "MonthlyCharges     169.93125\n",
      "TotalCharges      8889.13125\n",
      "dtype: float64\n",
      "\n",
      "Nilai Minimum dari masing-masing Variabel adalah: \n",
      "tenure             -60.00000\n",
      "MonthlyCharges     -43.61875\n",
      "TotalCharges     -4682.31875\n",
      "dtype: float64\n",
      "\n",
      "Persebaran data setelah ditangani Outlier: \n",
      "            tenure  MonthlyCharges  TotalCharges\n",
      "count  6950.000000     6950.000000   6950.000000\n",
      "mean     32.423165       64.992201   2286.058750\n",
      "std      24.581073       30.032040   2265.702553\n",
      "min       0.000000        0.000000     19.000000\n",
      "25%       9.000000       36.462500    406.975000\n",
      "50%      29.000000       70.450000   1400.850000\n",
      "75%      55.000000       89.850000   3799.837500\n",
      "max     124.000000      169.931250   8889.131250\n"
     ]
    }
   ],
   "execution_count": 59
  },
  {
   "metadata": {
    "ExecuteTime": {
     "end_time": "2025-07-18T13:51:13.668727Z",
     "start_time": "2025-07-18T13:51:13.378030Z"
    }
   },
   "cell_type": "code",
   "source": [
    "# Viasualisasikan ulang dg boxplot\n",
    "\n",
    "# Tenure\n",
    "plt.figure()\n",
    "sns.boxplot(x=df['tenure'], color='red', fliersize=8, flierprops={'markerfacecolor': 'r'})\n",
    "plt.title('Boxplot Tenure')\n",
    "plt.xlabel('Tenure')\n",
    "plt.show()\n",
    "\n",
    "# MonthlyCharges\n",
    "plt.figure()\n",
    "sns.boxplot(x=df['MonthlyCharges'], color='red', fliersize=8, flierprops={'markerfacecolor': 'r'})\n",
    "plt.title('Boxplot MonthlyCharges')\n",
    "plt.xlabel('MonthlyCharges')\n",
    "plt.show()\n",
    "\n",
    "# TotalCharges\n",
    "plt.figure()\n",
    "sns.boxplot(x=df['TotalCharges'], color='red', fliersize=8, flierprops={'markerfacecolor': 'r'})\n",
    "plt.title('Boxplot TotalCharges')\n",
    "plt.xlabel('TotalCharges')\n",
    "plt.show()"
   ],
   "id": "8918b68fd57d3e3e",
   "outputs": [
    {
     "data": {
      "text/plain": [
       "<Figure size 640x480 with 1 Axes>"
      ],
      "image/png": "[encoded data removed]"
     },
     "metadata": {},
     "output_type": "display_data"
    },
    {
     "data": {
      "text/plain": [
       "<Figure size 640x480 with 1 Axes>"
      ],
      "image/png": "[encoded data removed]"
     },
     "metadata": {},
     "output_type": "display_data"
    },
    {
     "data": {
      "text/plain": [
       "<Figure size 640x480 with 1 Axes>"
      ],
      "image/png": "[encoded data removed]"
     },
     "metadata": {},
     "output_type": "display_data"
    }
   ],
   "execution_count": 60
  },
  {
   "metadata": {},
   "cell_type": "markdown",
   "source": [
    "# Mendeteksi Nilai yang Tidak Standar\n",
    "\n",
    "Mendeteksi apakah ada nilai-nilai dari variable kategorik yang tidak standard. Hal ini biasanya terjadi dikarenakan kesalahan input data. Perbedaan istilah menjadi salah satu faktor yang sering terjadi, untuk itu dibutuhkan standardisasi dari data yang sudah ter-input.\n",
    "\n",
    "Gunakan fungsi value_counts() untuk melihat jumlah data unique per variable-nya."
   ],
   "id": "895986802dbd8bf8"
  },
  {
   "metadata": {
    "ExecuteTime": {
     "end_time": "2025-07-18T13:04:06.635100Z",
     "start_time": "2025-07-18T13:04:06.552522Z"
    }
   },
   "cell_type": "code",
   "source": [
    "#Loop\n",
    "for col_name in list(df):\n",
    "\tprint(f'\\nUnique Values Count Before Standardized Variable {col_name}')\n",
    "\tprint(df[col_name].value_counts())\n",
    "\tprint()"
   ],
   "id": "6c699267a30e3219",
   "outputs": [
    {
     "name": "stdout",
     "output_type": "stream",
     "text": [
      "\n",
      "Unique Values Count Before Standardized Variable UpdatedAt\n",
      "UpdatedAt\n",
      "202006    7106\n",
      "202005       7\n",
      "Name: count, dtype: int64\n",
      "\n",
      "\n",
      "Unique Values Count Before Standardized Variable customerID\n",
      "customerID\n",
      "4.55E+11       18\n",
      "4.59E+11       13\n",
      "4.57E+11       12\n",
      "4.54E+11       10\n",
      "4.60E+11        9\n",
      "               ..\n",
      "45665022680     1\n",
      "45023517923     1\n",
      "45184632574     1\n",
      "45726897364     1\n",
      "45427332508     1\n",
      "Name: count, Length: 7017, dtype: int64\n",
      "\n",
      "\n",
      "Unique Values Count Before Standardized Variable gender\n",
      "gender\n",
      "Male         3581\n",
      "Female       3512\n",
      "Wanita         14\n",
      "Laki-Laki       6\n",
      "Name: count, dtype: int64\n",
      "\n",
      "\n",
      "Unique Values Count Before Standardized Variable SeniorCitizen\n",
      "SeniorCitizen\n",
      "0    5962\n",
      "1    1151\n",
      "Name: count, dtype: int64\n",
      "\n",
      "\n",
      "Unique Values Count Before Standardized Variable Partner\n",
      "Partner\n",
      "No     3676\n",
      "Yes    3437\n",
      "Name: count, dtype: int64\n",
      "\n",
      "\n",
      "Unique Values Count Before Standardized Variable Dependents\n",
      "Dependents\n",
      "No     4978\n",
      "Yes    2115\n",
      "Iya      20\n",
      "Name: count, dtype: int64\n",
      "\n",
      "\n",
      "Unique Values Count Before Standardized Variable tenure\n",
      "tenure\n",
      "1.0      622\n",
      "72.0     364\n",
      "2.0      238\n",
      "3.0      200\n",
      "4.0      177\n",
      "        ... \n",
      "39.0      56\n",
      "44.0      52\n",
      "36.0      50\n",
      "0.0       11\n",
      "500.0      1\n",
      "Name: count, Length: 73, dtype: int64\n",
      "\n",
      "\n",
      "Unique Values Count Before Standardized Variable PhoneService\n",
      "PhoneService\n",
      "Yes    6423\n",
      "No      690\n",
      "Name: count, dtype: int64\n",
      "\n",
      "\n",
      "Unique Values Count Before Standardized Variable MultipleLines\n",
      "MultipleLines\n",
      "No                  3428\n",
      "Yes                 2995\n",
      "No phone service     690\n",
      "Name: count, dtype: int64\n",
      "\n",
      "\n",
      "Unique Values Count Before Standardized Variable InternetService\n",
      "InternetService\n",
      "Fiber optic    3125\n",
      "DSL            2451\n",
      "No             1537\n",
      "Name: count, dtype: int64\n",
      "\n",
      "\n",
      "Unique Values Count Before Standardized Variable OnlineSecurity\n",
      "OnlineSecurity\n",
      "No                     3531\n",
      "Yes                    2045\n",
      "No internet service    1537\n",
      "Name: count, dtype: int64\n",
      "\n",
      "\n",
      "Unique Values Count Before Standardized Variable OnlineBackup\n",
      "OnlineBackup\n",
      "No                     3120\n",
      "Yes                    2456\n",
      "No internet service    1537\n",
      "Name: count, dtype: int64\n",
      "\n",
      "\n",
      "Unique Values Count Before Standardized Variable DeviceProtection\n",
      "DeviceProtection\n",
      "No                     3120\n",
      "Yes                    2456\n",
      "No internet service    1537\n",
      "Name: count, dtype: int64\n",
      "\n",
      "\n",
      "Unique Values Count Before Standardized Variable TechSupport\n",
      "TechSupport\n",
      "No                     3502\n",
      "Yes                    2074\n",
      "No internet service    1537\n",
      "Name: count, dtype: int64\n",
      "\n",
      "\n",
      "Unique Values Count Before Standardized Variable StreamingTV\n",
      "StreamingTV\n",
      "No                     2837\n",
      "Yes                    2739\n",
      "No internet service    1537\n",
      "Name: count, dtype: int64\n",
      "\n",
      "\n",
      "Unique Values Count Before Standardized Variable StreamingMovies\n",
      "StreamingMovies\n",
      "No                     2809\n",
      "Yes                    2767\n",
      "No internet service    1537\n",
      "Name: count, dtype: int64\n",
      "\n",
      "\n",
      "Unique Values Count Before Standardized Variable Contract\n",
      "Contract\n",
      "Month-to-month    3905\n",
      "Two year          1716\n",
      "One year          1492\n",
      "Name: count, dtype: int64\n",
      "\n",
      "\n",
      "Unique Values Count Before Standardized Variable PaperlessBilling\n",
      "PaperlessBilling\n",
      "Yes    4206\n",
      "No     2907\n",
      "Name: count, dtype: int64\n",
      "\n",
      "\n",
      "Unique Values Count Before Standardized Variable PaymentMethod\n",
      "PaymentMethod\n",
      "Electronic check             2385\n",
      "Mailed check                 1630\n",
      "Bank transfer (automatic)    1556\n",
      "Credit card (automatic)      1542\n",
      "Name: count, dtype: int64\n",
      "\n",
      "\n",
      "Unique Values Count Before Standardized Variable MonthlyCharges\n",
      "MonthlyCharges\n",
      "20.05     61\n",
      "19.85     45\n",
      "19.70     44\n",
      "19.90     44\n",
      "19.95     44\n",
      "          ..\n",
      "23.65      1\n",
      "114.70     1\n",
      "35.35      1\n",
      "43.65      1\n",
      "180.05     1\n",
      "Name: count, Length: 1578, dtype: int64\n",
      "\n",
      "\n",
      "Unique Values Count Before Standardized Variable TotalCharges\n",
      "TotalCharges\n",
      "20.20      11\n",
      "19.75       9\n",
      "19.65       8\n",
      "20.05       8\n",
      "19.90       8\n",
      "           ..\n",
      "424.75      1\n",
      "6565.85     1\n",
      "2117.20     1\n",
      "203.95      1\n",
      "80.65       1\n",
      "Name: count, Length: 6529, dtype: int64\n",
      "\n",
      "\n",
      "Unique Values Count Before Standardized Variable Churn\n",
      "Churn\n",
      "No       5195\n",
      "Yes      1866\n",
      "Churn       9\n",
      "Name: count, dtype: int64\n",
      "\n"
     ]
    }
   ],
   "execution_count": 29
  },
  {
   "metadata": {},
   "cell_type": "markdown",
   "source": [
    "## Melakukan Standarisasi dengan looping\n",
    "\n",
    "Kita bisa menggunakan fungsi .replace(), Namun, karena variabel yang perlu distandarisasi memiliki jenis isi variabel yang berbeda maka kita gunakan if else"
   ],
   "id": "122e7dd3498a23e7"
  },
  {
   "metadata": {
    "ExecuteTime": {
     "end_time": "2025-07-18T13:28:21.360750Z",
     "start_time": "2025-07-18T13:28:21.347513Z"
    }
   },
   "cell_type": "code",
   "source": [
    "kolom_std = ['gender', 'Dependents', 'Churn']\n",
    "\n",
    "for col_name in kolom_std:\n",
    "  print(f\"\\nStandarisasi Kolom:{col_name}\")\n",
    "  print('Nilai unik sebelum distandarisasi: ')\n",
    "  print(df[col_name].unique())\n",
    "  print('\\nJumlah nilai unik sebelum distandarisasi: ')\n",
    "  print(df[col_name].value_counts())"
   ],
   "id": "df4ea2f99187f451",
   "outputs": [
    {
     "name": "stdout",
     "output_type": "stream",
     "text": [
      "\n",
      "Standarisasi Kolom:gender\n",
      "Nilai unik sebelum distandarisasi: \n",
      "['Female' 'Male' 'Wanita' 'Laki-Laki']\n",
      "\n",
      "Jumlah nilai unik sebelum distandarisasi: \n",
      "gender\n",
      "Male         3581\n",
      "Female       3512\n",
      "Wanita         14\n",
      "Laki-Laki       6\n",
      "Name: count, dtype: int64\n",
      "\n",
      "Standarisasi Kolom:Dependents\n",
      "Nilai unik sebelum distandarisasi: \n",
      "['No' 'Yes' 'Iya']\n",
      "\n",
      "Jumlah nilai unik sebelum distandarisasi: \n",
      "Dependents\n",
      "No     4978\n",
      "Yes    2115\n",
      "Iya      20\n",
      "Name: count, dtype: int64\n",
      "\n",
      "Standarisasi Kolom:Churn\n",
      "Nilai unik sebelum distandarisasi: \n",
      "['No' 'Yes' 'Churn' nan]\n",
      "\n",
      "Jumlah nilai unik sebelum distandarisasi: \n",
      "Churn\n",
      "No       5195\n",
      "Yes      1866\n",
      "Churn       9\n",
      "Name: count, dtype: int64\n"
     ]
    }
   ],
   "execution_count": 34
  },
  {
   "metadata": {
    "ExecuteTime": {
     "end_time": "2025-07-18T13:38:24.251463Z",
     "start_time": "2025-07-18T13:38:24.237915Z"
    }
   },
   "cell_type": "code",
   "source": [
    "for col_name in kolom_std:\n",
    "    if col_name == 'gender':\n",
    "        mapping = {'Wanita' : 'Female', 'Laki-Laki' : 'Male', 'Famale' : 'Female'}\n",
    "    elif col_name == 'Dependents':\n",
    "        mapping = {'Iya' : 'Yes'}\n",
    "    elif col_name == 'Churn':\n",
    "        mapping = {'Churn' : 'Yes'}\n",
    "    else:\n",
    "        mapping = {}\n",
    "\n",
    "    df[col_name] = df[col_name].replace(mapping)\n",
    "\n",
    "for col_name in list(df[['gender', 'Dependents', 'Churn']]):\n",
    "\tprint(f'\\nUnique Values Count After Standardized Variable {col_name}')\n",
    "\tprint(df[col_name].value_counts())\n",
    "\tprint()"
   ],
   "id": "97179ab0152b1684",
   "outputs": [
    {
     "name": "stdout",
     "output_type": "stream",
     "text": [
      "\n",
      "Unique Values Count After Standardized Variable gender\n",
      "gender\n",
      "Male      3587\n",
      "Female    3526\n",
      "Name: count, dtype: int64\n",
      "\n",
      "\n",
      "Unique Values Count After Standardized Variable Dependents\n",
      "Dependents\n",
      "No     4978\n",
      "Yes    2135\n",
      "Name: count, dtype: int64\n",
      "\n",
      "\n",
      "Unique Values Count After Standardized Variable Churn\n",
      "Churn\n",
      "No     5195\n",
      "Yes    1875\n",
      "Name: count, dtype: int64\n",
      "\n"
     ]
    }
   ],
   "execution_count": 39
  }
 ],
 "metadata": {
  "kernelspec": {
   "display_name": "Python 3",
   "language": "python",
   "name": "python3"
  },
  "language_info": {
   "codemirror_mode": {
    "name": "ipython",
    "version": 2
   },
   "file_extension": ".py",
   "mimetype": "text/x-python",
   "name": "python",
   "nbconvert_exporter": "python",
   "pygments_lexer": "ipython2",
   "version": "2.7.6"
  }
 },
 "nbformat": 4,
 "nbformat_minor": 5
}
